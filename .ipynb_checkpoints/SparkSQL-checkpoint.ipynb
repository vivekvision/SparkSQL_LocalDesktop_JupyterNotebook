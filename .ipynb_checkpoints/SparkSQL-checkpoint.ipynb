{
 "cells": [
  {
   "cell_type": "markdown",
   "id": "71983fc3-4965-489c-91a8-105c8986a4cc",
   "metadata": {},
   "source": [
    "# Create Spark Session "
   ]
  },
  {
   "cell_type": "code",
   "execution_count": 23,
   "id": "f141ebb5-f6a8-4ea5-b305-748378e79fdf",
   "metadata": {},
   "outputs": [],
   "source": [
    "from pyspark.sql import SparkSession\n",
    "spark = SparkSession.builder\\\n",
    "        .appName(\"TestApp\")\\\n",
    "        .getOrCreate()"
   ]
  },
  {
   "cell_type": "markdown",
   "id": "a9d07760-a14a-47bc-96ca-3b3bb582f1be",
   "metadata": {},
   "source": [
    "# Read data and get spark temp view"
   ]
  },
  {
   "cell_type": "code",
   "execution_count": 24,
   "id": "7bed0ce7-d5cd-4eb1-8595-70498254e645",
   "metadata": {},
   "outputs": [],
   "source": [
    "df = spark.read.csv('WorldBank_GDP_Ranking_by_Country_Dec2023.csv', header=True, inferSchema=True)\n",
    "df.createOrReplaceTempView('GDP_Ranking')"
   ]
  },
  {
   "cell_type": "markdown",
   "id": "1978f228-bb88-4494-aee5-2f1dfa25da6b",
   "metadata": {},
   "source": [
    "# Write SQL Query "
   ]
  },
  {
   "cell_type": "code",
   "execution_count": 25,
   "id": "668f3ca4-7947-4c0e-8351-74b3459b0692",
   "metadata": {},
   "outputs": [],
   "source": [
    "statement = \"\"\"\n",
    "SELECT * FROM GDP_Ranking\n",
    "\"\"\""
   ]
  },
  {
   "cell_type": "markdown",
   "id": "12ddc123-693e-4bc5-84e2-29068215cbfd",
   "metadata": {},
   "source": [
    "# Execute SQL Query "
   ]
  },
  {
   "cell_type": "code",
   "execution_count": 26,
   "id": "8896c2a3-39c5-44cc-9257-2c6f5469dcb1",
   "metadata": {},
   "outputs": [],
   "source": [
    "df = spark.sql(statement)"
   ]
  },
  {
   "cell_type": "code",
   "execution_count": 27,
   "id": "deb8a3fc-f647-4ad5-980d-9870a45a0ff8",
   "metadata": {},
   "outputs": [
    {
     "name": "stdout",
     "output_type": "stream",
     "text": [
      "+------------------+-----------+-------+\n",
      "|           Country|MillionsUSD|Ranking|\n",
      "+------------------+-----------+-------+\n",
      "|     United States| 25,439,700|      1|\n",
      "|             China| 17,963,171|      2|\n",
      "|             Japan|  4,232,174|      3|\n",
      "|           Germany|  4,082,469|      4|\n",
      "|             India|  3,416,646|      5|\n",
      "|    United Kingdom|  3,089,073|      6|\n",
      "|            France|  2,779,092|      7|\n",
      "|Russian Federation|  2,240,422|      8|\n",
      "|            Canada|  2,137,939|      9|\n",
      "|             Italy|  2,049,737|     10|\n",
      "|            Brazil|  1,920,096|     11|\n",
      "|         Australia|  1,692,957|     12|\n",
      "|       Korea, Rep.|  1,673,916|     13|\n",
      "|            Mexico|  1,465,854|     14|\n",
      "|             Spain|  1,417,800|     15|\n",
      "|         Indonesia|  1,319,100|     16|\n",
      "|      Saudi Arabia|  1,108,572|     17|\n",
      "|       Netherlands|  1,009,399|     18|\n",
      "|           Türkiye|    907,118|     19|\n",
      "|       Switzerland|    818,427|     20|\n",
      "+------------------+-----------+-------+\n",
      "only showing top 20 rows\n",
      "\n"
     ]
    }
   ],
   "source": [
    "df.show()"
   ]
  },
  {
   "cell_type": "code",
   "execution_count": null,
   "id": "91f1c3c1-cdc7-4455-8f88-83fcfcf10067",
   "metadata": {},
   "outputs": [],
   "source": []
  },
  {
   "cell_type": "code",
   "execution_count": null,
   "id": "5cb19c12-4368-47dd-af98-5c3708ef7405",
   "metadata": {},
   "outputs": [],
   "source": []
  }
 ],
 "metadata": {
  "kernelspec": {
   "display_name": "Python 3 (ipykernel)",
   "language": "python",
   "name": "python3"
  },
  "language_info": {
   "codemirror_mode": {
    "name": "ipython",
    "version": 3
   },
   "file_extension": ".py",
   "mimetype": "text/x-python",
   "name": "python",
   "nbconvert_exporter": "python",
   "pygments_lexer": "ipython3",
   "version": "3.12.1"
  }
 },
 "nbformat": 4,
 "nbformat_minor": 5
}
