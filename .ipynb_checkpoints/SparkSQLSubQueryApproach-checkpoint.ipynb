{
 "cells": [
  {
   "cell_type": "markdown",
   "id": "71983fc3-4965-489c-91a8-105c8986a4cc",
   "metadata": {},
   "source": [
    "# Create Spark Session "
   ]
  },
  {
   "cell_type": "code",
   "execution_count": 1,
   "id": "f141ebb5-f6a8-4ea5-b305-748378e79fdf",
   "metadata": {},
   "outputs": [],
   "source": [
    "from pyspark.sql import SparkSession\n",
    "spark = SparkSession.builder\\\n",
    "        .appName(\"TestApp\")\\\n",
    "        .getOrCreate()"
   ]
  },
  {
   "cell_type": "markdown",
   "id": "a9d07760-a14a-47bc-96ca-3b3bb582f1be",
   "metadata": {},
   "source": [
    "# Read data and get spark temp view"
   ]
  },
  {
   "cell_type": "code",
   "execution_count": 2,
   "id": "7bed0ce7-d5cd-4eb1-8595-70498254e645",
   "metadata": {},
   "outputs": [],
   "source": [
    "df1 = spark.read.csv('Group_1.csv', header=True, inferSchema=True)\n",
    "df2 = spark.read.csv('Group_2.csv', header=True, inferSchema=True)\n",
    "df1.createOrReplaceTempView('Group_1_txt')\n",
    "df2.createOrReplaceTempView('Group_2_txt')"
   ]
  },
  {
   "cell_type": "markdown",
   "id": "1978f228-bb88-4494-aee5-2f1dfa25da6b",
   "metadata": {},
   "source": [
    "# Write SQL Query "
   ]
  },
  {
   "cell_type": "code",
   "execution_count": 3,
   "id": "668f3ca4-7947-4c0e-8351-74b3459b0692",
   "metadata": {},
   "outputs": [],
   "source": [
    "statement = \"\"\"\n",
    "with Group1_Enrich as (\n",
    "select \n",
    "  PersonID, \n",
    "  float(Height_CM) as Height, \n",
    "  date(DOB) as BirthDate\n",
    "from group_1_txt\n",
    "),\n",
    "Group2_Enrich as (\n",
    "select \n",
    "  PersonID, \n",
    "  float(Height_CM) as Height, \n",
    "  date(DOB) as BirthDate\n",
    "from group_2_txt\n",
    "),\n",
    "\n",
    "Group1_Min_BirthDate as (\n",
    "select \n",
    "    min(BirthDate) as Birth_Date,\n",
    "    'Group1' as GroupName,\n",
    "    first(PersonID) as PersonID,\n",
    "    first(Height) as Height,\n",
    "    'Eldest' as Remarks\n",
    "from Group1_Enrich\n",
    "),\n",
    "Group1_Max_Height as (\n",
    "select \n",
    "  first(BirthDate) as Birth_Date,\n",
    "  'Group1' as GroupName,\n",
    "  first(PersonID) as PersonID,\n",
    "  max(Height) as Height,\n",
    "  'Tallest' as Remarks\n",
    "from Group1_Enrich\n",
    "),\n",
    "Group2_Min_BirthDate as (\n",
    "select \n",
    "   min(BirthDate) as Birth_Date,\n",
    "   'Group2' as GroupName,\n",
    "   first(PersonID) as PersonID,\n",
    "   first(Height) as Height,\n",
    "   'Eldest' as Remarks\n",
    " from Group2_Enrich\n",
    "),\n",
    "Group2_Max_Height as (\n",
    "select \n",
    "  first(BirthDate) as Birth_Date,\n",
    "  'Group2' as GroupName,\n",
    "  first(PersonID) as PersonID,\n",
    "  max(Height) as Height,\n",
    "  'Tallest' as Remarks\n",
    "  from Group2_Enrich\n",
    ")\n",
    "\n",
    "---- Return the final result \n",
    "select \n",
    "*\n",
    "from \n",
    " Group1_Min_BirthDate\n",
    "union all\n",
    "select \n",
    "*\n",
    "from \n",
    "  Group1_Max_Height\n",
    "union all\n",
    "select \n",
    "*\n",
    "from \n",
    "  Group2_Min_BirthDate\n",
    "union all\n",
    "select \n",
    "*\n",
    "from   \n",
    "  Group2_Max_Height\n",
    "\n",
    "\n",
    "\"\"\""
   ]
  },
  {
   "cell_type": "markdown",
   "id": "12ddc123-693e-4bc5-84e2-29068215cbfd",
   "metadata": {},
   "source": [
    "# Execute SQL Query "
   ]
  },
  {
   "cell_type": "code",
   "execution_count": 4,
   "id": "8896c2a3-39c5-44cc-9257-2c6f5469dcb1",
   "metadata": {},
   "outputs": [],
   "source": [
    "df = spark.sql(statement)"
   ]
  },
  {
   "cell_type": "code",
   "execution_count": 5,
   "id": "deb8a3fc-f647-4ad5-980d-9870a45a0ff8",
   "metadata": {},
   "outputs": [
    {
     "name": "stdout",
     "output_type": "stream",
     "text": [
      "+----------+---------+--------+------+-------+\n",
      "|Birth_Date|GroupName|PersonID|Height|Remarks|\n",
      "+----------+---------+--------+------+-------+\n",
      "|1963-09-03|   Group1|   14521| 160.0| Eldest|\n",
      "|1963-09-03|   Group1|   14521| 175.0|Tallest|\n",
      "|1981-02-12|   Group2|   14521| 166.0| Eldest|\n",
      "|1991-03-09|   Group2|   14521| 175.0|Tallest|\n",
      "+----------+---------+--------+------+-------+\n",
      "\n"
     ]
    }
   ],
   "source": [
    "df.show()"
   ]
  },
  {
   "cell_type": "code",
   "execution_count": null,
   "id": "91f1c3c1-cdc7-4455-8f88-83fcfcf10067",
   "metadata": {},
   "outputs": [],
   "source": []
  },
  {
   "cell_type": "code",
   "execution_count": null,
   "id": "5cb19c12-4368-47dd-af98-5c3708ef7405",
   "metadata": {},
   "outputs": [],
   "source": []
  }
 ],
 "metadata": {
  "kernelspec": {
   "display_name": "Python 3 (ipykernel)",
   "language": "python",
   "name": "python3"
  },
  "language_info": {
   "codemirror_mode": {
    "name": "ipython",
    "version": 3
   },
   "file_extension": ".py",
   "mimetype": "text/x-python",
   "name": "python",
   "nbconvert_exporter": "python",
   "pygments_lexer": "ipython3",
   "version": "3.12.1"
  }
 },
 "nbformat": 4,
 "nbformat_minor": 5
}
