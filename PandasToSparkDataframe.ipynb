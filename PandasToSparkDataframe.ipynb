{
 "cells": [
  {
   "cell_type": "code",
   "execution_count": 35,
   "id": "22e4bf80-6068-4778-adc3-0c488ef27af3",
   "metadata": {},
   "outputs": [],
   "source": [
    "import pyspark\n",
    "from pyspark.sql import SparkSession\n",
    "spark = SparkSession.builder.getOrCreate()"
   ]
  },
  {
   "cell_type": "code",
   "execution_count": 36,
   "id": "7303e748-fed7-4711-b61e-c91a4b471984",
   "metadata": {},
   "outputs": [],
   "source": [
    "import pandas as pd\n",
    "pandas_df = pd.read_csv(\"WorldBank_GDP_Ranking_by_Country_Dec2023.csv\")"
   ]
  },
  {
   "cell_type": "code",
   "execution_count": 37,
   "id": "ed202443-17c5-4113-8f44-710d81969fe3",
   "metadata": {},
   "outputs": [],
   "source": [
    "#pandas_df"
   ]
  },
  {
   "cell_type": "code",
   "execution_count": 44,
   "id": "52420674-efe3-4b0f-b9a4-3ad050c2a9e4",
   "metadata": {},
   "outputs": [],
   "source": [
    "# enabling the Apache Arrow for converting\n",
    "# Pandas to PySpark data-frame\n",
    "spark.conf.set(\"spark.sql.execution.arrow.enabled\", \"true\")"
   ]
  },
  {
   "cell_type": "code",
   "execution_count": 39,
   "id": "1344b678-e721-437f-b3f5-67ac9bf0902a",
   "metadata": {},
   "outputs": [],
   "source": [
    "from pyspark.sql.types import StructType,StructField, StringType, IntegerType\n",
    "\n",
    "mySchema = StructType([ StructField(\"Country\", StringType(), True)\\\n",
    "                       ,StructField(\"Country\", StringType(), True)\\\n",
    "                       ,StructField(\"Ranking\", IntegerType(), True)])"
   ]
  },
  {
   "cell_type": "code",
   "execution_count": 40,
   "id": "2dc9e0af-93b2-4d87-bbad-532a0e9ef803",
   "metadata": {},
   "outputs": [],
   "source": [
    "#Create PySpark DataFrame from Pandas\n",
    "spark_df=spark.createDataFrame(pandas_df, mySchema)"
   ]
  },
  {
   "cell_type": "code",
   "execution_count": 41,
   "id": "4209fc8c-7449-49d4-95ce-669725825c68",
   "metadata": {},
   "outputs": [
    {
     "name": "stdout",
     "output_type": "stream",
     "text": [
      "root\n",
      " |-- Country: string (nullable = true)\n",
      " |-- Country: string (nullable = true)\n",
      " |-- Ranking: integer (nullable = true)\n",
      "\n"
     ]
    }
   ],
   "source": [
    "spark_df.printSchema()"
   ]
  },
  {
   "cell_type": "code",
   "execution_count": null,
   "id": "a088e3eb-374b-4750-95e4-e29b8b70f257",
   "metadata": {},
   "outputs": [],
   "source": []
  },
  {
   "cell_type": "code",
   "execution_count": 42,
   "id": "8989e288-8709-4069-831e-d35354014359",
   "metadata": {},
   "outputs": [
    {
     "name": "stdout",
     "output_type": "stream",
     "text": [
      "+------------------+----------+-------+\n",
      "|           Country|   Country|Ranking|\n",
      "+------------------+----------+-------+\n",
      "|     United States|25,439,700|      1|\n",
      "|             China|17,963,171|      2|\n",
      "|             Japan| 4,232,174|      3|\n",
      "|           Germany| 4,082,469|      4|\n",
      "|             India| 3,416,646|      5|\n",
      "|    United Kingdom| 3,089,073|      6|\n",
      "|            France| 2,779,092|      7|\n",
      "|Russian Federation| 2,240,422|      8|\n",
      "|            Canada| 2,137,939|      9|\n",
      "|             Italy| 2,049,737|     10|\n",
      "|            Brazil| 1,920,096|     11|\n",
      "|         Australia| 1,692,957|     12|\n",
      "|       Korea, Rep.| 1,673,916|     13|\n",
      "|            Mexico| 1,465,854|     14|\n",
      "|             Spain| 1,417,800|     15|\n",
      "|         Indonesia| 1,319,100|     16|\n",
      "|      Saudi Arabia| 1,108,572|     17|\n",
      "|       Netherlands| 1,009,399|     18|\n",
      "|           Türkiye|   907,118|     19|\n",
      "|       Switzerland|   818,427|     20|\n",
      "+------------------+----------+-------+\n",
      "only showing top 20 rows\n",
      "\n"
     ]
    }
   ],
   "source": [
    "spark_df.show()"
   ]
  },
  {
   "cell_type": "code",
   "execution_count": 43,
   "id": "de75a90e-a1c7-48af-99fc-90b202fd8b79",
   "metadata": {},
   "outputs": [
    {
     "data": {
      "text/html": [
       "<div>\n",
       "<style scoped>\n",
       "    .dataframe tbody tr th:only-of-type {\n",
       "        vertical-align: middle;\n",
       "    }\n",
       "\n",
       "    .dataframe tbody tr th {\n",
       "        vertical-align: top;\n",
       "    }\n",
       "\n",
       "    .dataframe thead th {\n",
       "        text-align: right;\n",
       "    }\n",
       "</style>\n",
       "<table border=\"1\" class=\"dataframe\">\n",
       "  <thead>\n",
       "    <tr style=\"text-align: right;\">\n",
       "      <th></th>\n",
       "      <th>Country</th>\n",
       "      <th>Country</th>\n",
       "      <th>Ranking</th>\n",
       "    </tr>\n",
       "  </thead>\n",
       "  <tbody>\n",
       "    <tr>\n",
       "      <th>0</th>\n",
       "      <td>United States</td>\n",
       "      <td>25,439,700</td>\n",
       "      <td>1</td>\n",
       "    </tr>\n",
       "    <tr>\n",
       "      <th>1</th>\n",
       "      <td>China</td>\n",
       "      <td>17,963,171</td>\n",
       "      <td>2</td>\n",
       "    </tr>\n",
       "    <tr>\n",
       "      <th>2</th>\n",
       "      <td>Japan</td>\n",
       "      <td>4,232,174</td>\n",
       "      <td>3</td>\n",
       "    </tr>\n",
       "    <tr>\n",
       "      <th>3</th>\n",
       "      <td>Germany</td>\n",
       "      <td>4,082,469</td>\n",
       "      <td>4</td>\n",
       "    </tr>\n",
       "    <tr>\n",
       "      <th>4</th>\n",
       "      <td>India</td>\n",
       "      <td>3,416,646</td>\n",
       "      <td>5</td>\n",
       "    </tr>\n",
       "    <tr>\n",
       "      <th>...</th>\n",
       "      <td>...</td>\n",
       "      <td>...</td>\n",
       "      <td>...</td>\n",
       "    </tr>\n",
       "    <tr>\n",
       "      <th>205</th>\n",
       "      <td>Marshall Islands</td>\n",
       "      <td>259</td>\n",
       "      <td>206</td>\n",
       "    </tr>\n",
       "    <tr>\n",
       "      <th>206</th>\n",
       "      <td>Palau</td>\n",
       "      <td>233</td>\n",
       "      <td>207</td>\n",
       "    </tr>\n",
       "    <tr>\n",
       "      <th>207</th>\n",
       "      <td>Kiribati</td>\n",
       "      <td>223</td>\n",
       "      <td>208</td>\n",
       "    </tr>\n",
       "    <tr>\n",
       "      <th>208</th>\n",
       "      <td>Nauru</td>\n",
       "      <td>152</td>\n",
       "      <td>209</td>\n",
       "    </tr>\n",
       "    <tr>\n",
       "      <th>209</th>\n",
       "      <td>Tuvalu</td>\n",
       "      <td>59</td>\n",
       "      <td>210</td>\n",
       "    </tr>\n",
       "  </tbody>\n",
       "</table>\n",
       "<p>210 rows × 3 columns</p>\n",
       "</div>"
      ],
      "text/plain": [
       "              Country     Country  Ranking\n",
       "0       United States  25,439,700        1\n",
       "1               China  17,963,171        2\n",
       "2               Japan   4,232,174        3\n",
       "3             Germany   4,082,469        4\n",
       "4               India   3,416,646        5\n",
       "..                ...         ...      ...\n",
       "205  Marshall Islands         259      206\n",
       "206             Palau         233      207\n",
       "207          Kiribati         223      208\n",
       "208             Nauru         152      209\n",
       "209            Tuvalu          59      210\n",
       "\n",
       "[210 rows x 3 columns]"
      ]
     },
     "execution_count": 43,
     "metadata": {},
     "output_type": "execute_result"
    }
   ],
   "source": [
    "spark_df.toPandas()"
   ]
  },
  {
   "cell_type": "code",
   "execution_count": null,
   "id": "aa85c8c6-5bf3-42c5-ba5e-dcd89218776c",
   "metadata": {},
   "outputs": [],
   "source": []
  }
 ],
 "metadata": {
  "kernelspec": {
   "display_name": "Python 3 (ipykernel)",
   "language": "python",
   "name": "python3"
  },
  "language_info": {
   "codemirror_mode": {
    "name": "ipython",
    "version": 3
   },
   "file_extension": ".py",
   "mimetype": "text/x-python",
   "name": "python",
   "nbconvert_exporter": "python",
   "pygments_lexer": "ipython3",
   "version": "3.12.1"
  }
 },
 "nbformat": 4,
 "nbformat_minor": 5
}
